{
 "cells": [
  {
   "cell_type": "code",
   "execution_count": 2,
   "metadata": {},
   "outputs": [],
   "source": [
    "import numpy as np\n",
    "import re\n",
    "import pandas as pd"
   ]
  },
  {
   "cell_type": "code",
   "execution_count": 3,
   "metadata": {
    "scrolled": true
   },
   "outputs": [
    {
     "name": "stderr",
     "output_type": "stream",
     "text": [
      "/anaconda3/envs/ada/lib/python3.6/site-packages/IPython/core/interactiveshell.py:3020: DtypeWarning: Columns (0,3,5,24,25,26,28,36,41,49) have mixed types. Specify dtype option on import or set low_memory=False.\n",
      "  interactivity=interactivity, compiler=compiler, result=result)\n"
     ]
    }
   ],
   "source": [
    "openfood = pd.read_csv('./dataset/openfood.csv',sep='\\t')"
   ]
  },
  {
   "cell_type": "code",
   "execution_count": 189,
   "metadata": {},
   "outputs": [
    {
     "name": "stdout",
     "output_type": "stream",
     "text": [
      "code 00021319\n",
      "url http://world-en.openfoodfacts.org/product/00021319/farce\n",
      "creator kiliweb\n",
      "created_t 1540134737\n",
      "created_datetime 2018-10-21T15:12:17Z\n",
      "last_modified_t 1540134739\n",
      "last_modified_datetime 2018-10-21T15:12:19Z\n",
      "product_name Farce\n",
      "generic_name nan\n",
      "quantity nan\n",
      "packaging nan\n",
      "packaging_tags nan\n",
      "brands nan\n",
      "brands_tags nan\n",
      "categories nan\n",
      "categories_tags nan\n",
      "categories_en nan\n",
      "origins nan\n",
      "origins_tags nan\n",
      "manufacturing_places nan\n",
      "manufacturing_places_tags nan\n",
      "labels nan\n",
      "labels_tags nan\n",
      "labels_en nan\n",
      "emb_codes nan\n",
      "emb_codes_tags nan\n",
      "first_packaging_code_geo nan\n",
      "cities_tags nan\n",
      "purchase_places nan\n",
      "stores nan\n",
      "countries en:france\n",
      "countries_tags en:france\n",
      "countries_en France\n",
      "ingredients_text nan\n",
      "allergens nan\n",
      "allergens_en nan\n",
      "traces nan\n",
      "traces_tags nan\n",
      "traces_en nan\n",
      "serving_size nan\n",
      "serving_quantity 0.0\n",
      "no_nutriments nan\n",
      "additives_n nan\n",
      "additives nan\n",
      "additives_tags nan\n",
      "additives_en nan\n",
      "ingredients_from_palm_oil_n nan\n",
      "ingredients_from_palm_oil_tags nan\n",
      "ingredients_that_may_be_from_palm_oil_n nan\n",
      "ingredients_that_may_be_from_palm_oil_tags nan\n",
      "nutrition_grade_fr nan\n",
      "pnns_groups_1 nan\n",
      "pnns_groups_2 nan\n",
      "states en:to-be-completed, en:nutrition-facts-completed, en:ingredients-to-be-completed, en:expiration-date-to-be-completed, en:packaging-code-to-be-completed, en:characteristics-to-be-completed, en:categories-to-be-completed, en:brands-to-be-completed, en:packaging-to-be-completed, en:quantity-to-be-completed, en:product-name-completed, en:photos-to-be-validated, en:photos-uploaded\n",
      "states_tags en:to-be-completed,en:nutrition-facts-completed,en:ingredients-to-be-completed,en:expiration-date-to-be-completed,en:packaging-code-to-be-completed,en:characteristics-to-be-completed,en:categories-to-be-completed,en:brands-to-be-completed,en:packaging-to-be-completed,en:quantity-to-be-completed,en:product-name-completed,en:photos-to-be-validated,en:photos-uploaded\n",
      "states_en To be completed,Nutrition facts completed,Ingredients to be completed,Expiration date to be completed,Packaging-code-to-be-completed,Characteristics to be completed,Categories to be completed,Brands to be completed,Packaging to be completed,Quantity to be completed,Product name completed,Photos to be validated,Photos uploaded\n",
      "main_category nan\n",
      "main_category_en nan\n",
      "image_url nan\n",
      "image_small_url nan\n",
      "image_ingredients_url nan\n",
      "image_ingredients_small_url nan\n",
      "image_nutrition_url nan\n",
      "image_nutrition_small_url nan\n",
      "energy_100g 477.0\n",
      "energy-from-fat_100g nan\n",
      "fat_100g 11.4\n",
      "saturated-fat_100g 4.7\n",
      "-butyric-acid_100g nan\n",
      "-caproic-acid_100g nan\n",
      "-caprylic-acid_100g nan\n",
      "-capric-acid_100g nan\n",
      "-lauric-acid_100g nan\n",
      "-myristic-acid_100g nan\n",
      "-palmitic-acid_100g nan\n",
      "-stearic-acid_100g nan\n",
      "-arachidic-acid_100g nan\n",
      "-behenic-acid_100g nan\n",
      "-lignoceric-acid_100g nan\n",
      "-cerotic-acid_100g nan\n",
      "-montanic-acid_100g nan\n",
      "-melissic-acid_100g nan\n",
      "monounsaturated-fat_100g nan\n",
      "polyunsaturated-fat_100g nan\n",
      "omega-3-fat_100g nan\n",
      "-alpha-linolenic-acid_100g nan\n",
      "-eicosapentaenoic-acid_100g nan\n",
      "-docosahexaenoic-acid_100g nan\n",
      "omega-6-fat_100g nan\n",
      "-linoleic-acid_100g nan\n",
      "-arachidonic-acid_100g nan\n",
      "-gamma-linolenic-acid_100g nan\n",
      "-dihomo-gamma-linolenic-acid_100g nan\n",
      "omega-9-fat_100g nan\n",
      "-oleic-acid_100g nan\n",
      "-elaidic-acid_100g nan\n",
      "-gondoic-acid_100g nan\n",
      "-mead-acid_100g nan\n",
      "-erucic-acid_100g nan\n",
      "-nervonic-acid_100g nan\n",
      "trans-fat_100g nan\n",
      "cholesterol_100g nan\n",
      "carbohydrates_100g 1.6\n",
      "sugars_100g 0.5\n",
      "-sucrose_100g nan\n",
      "-glucose_100g nan\n",
      "-fructose_100g nan\n",
      "-lactose_100g nan\n",
      "-maltose_100g nan\n",
      "-maltodextrins_100g nan\n",
      "starch_100g nan\n",
      "polyols_100g nan\n",
      "fiber_100g nan\n",
      "proteins_100g 14.7\n",
      "casein_100g nan\n",
      "serum-proteins_100g nan\n",
      "nucleotides_100g nan\n",
      "salt_100g 2.38\n",
      "sodium_100g 0.9370078740157479\n",
      "alcohol_100g nan\n",
      "vitamin-a_100g nan\n",
      "beta-carotene_100g nan\n",
      "vitamin-d_100g nan\n",
      "vitamin-e_100g nan\n",
      "vitamin-k_100g nan\n",
      "vitamin-c_100g nan\n",
      "vitamin-b1_100g nan\n",
      "vitamin-b2_100g nan\n",
      "vitamin-pp_100g nan\n",
      "vitamin-b6_100g nan\n",
      "vitamin-b9_100g nan\n",
      "folates_100g nan\n",
      "vitamin-b12_100g nan\n",
      "biotin_100g nan\n",
      "pantothenic-acid_100g nan\n",
      "silica_100g nan\n",
      "bicarbonate_100g nan\n",
      "potassium_100g nan\n",
      "chloride_100g nan\n",
      "calcium_100g nan\n",
      "phosphorus_100g nan\n",
      "iron_100g nan\n",
      "magnesium_100g nan\n",
      "zinc_100g nan\n",
      "copper_100g nan\n",
      "manganese_100g nan\n",
      "fluoride_100g nan\n",
      "selenium_100g nan\n",
      "chromium_100g nan\n",
      "molybdenum_100g nan\n",
      "iodine_100g nan\n",
      "caffeine_100g nan\n",
      "taurine_100g nan\n",
      "ph_100g nan\n",
      "fruits-vegetables-nuts_100g nan\n",
      "fruits-vegetables-nuts-estimate_100g nan\n",
      "collagen-meat-protein-ratio_100g nan\n",
      "cocoa_100g nan\n",
      "chlorophyl_100g nan\n",
      "carbon-footprint_100g nan\n",
      "nutrition-score-fr_100g nan\n",
      "nutrition-score-uk_100g nan\n",
      "glycemic-index_100g nan\n",
      "water-hardness_100g nan\n",
      "choline_100g nan\n",
      "phylloquinone_100g nan\n",
      "beta-glucan_100g nan\n",
      "inositol_100g nan\n",
      "carnitine_100g nan\n"
     ]
    }
   ],
   "source": [
    "for names in openfood_dropna.columns:\n",
    "    print(names,openfood_dropna[names].iloc[999])"
   ]
  },
  {
   "cell_type": "code",
   "execution_count": 4,
   "metadata": {},
   "outputs": [],
   "source": [
    "openfood_select = openfood[['product_name','categories','countries_en','manufacturing_places',\n",
    " 'manufacturing_places_tags','allergens','origins','origins_tags','ingredients_text',\n",
    " 'traces','nutrition_grade_fr','energy_100g','fat_100g','saturated-fat_100g','monounsaturated-fat_100g',\n",
    " 'polyunsaturated-fat_100g','trans-fat_100g','cholesterol_100g','carbohydrates_100g','sugars_100g',\n",
    " 'starch_100g','fiber_100g','proteins_100g','salt_100g','sodium_100g','alcohol_100g']]"
   ]
  },
  {
   "cell_type": "code",
   "execution_count": 10,
   "metadata": {},
   "outputs": [],
   "source": [
    "openfood_notnull = openfood_select[pd.notnull(openfood_select['product_name'])].reset_index().drop(columns='index')"
   ]
  },
  {
   "cell_type": "code",
   "execution_count": 16,
   "metadata": {},
   "outputs": [],
   "source": [
    "openfood_notnull = openfood_notnull[pd.notnull(openfood_notnull['countries_en'])].reset_index().drop(columns='index')"
   ]
  },
  {
   "cell_type": "code",
   "execution_count": 20,
   "metadata": {},
   "outputs": [],
   "source": [
    "openfood_notnull.to_csv('OpenFoodCleaned.csv',index=False)"
   ]
  },
  {
   "cell_type": "code",
   "execution_count": 17,
   "metadata": {},
   "outputs": [],
   "source": [
    "test_ingrd = openfood_notnull[openfood_notnull.product_name.str.lower().str.contains('canola oil')]"
   ]
  },
  {
   "cell_type": "code",
   "execution_count": 18,
   "metadata": {
    "scrolled": true
   },
   "outputs": [
    {
     "data": {
      "text/plain": [
       "United States    224\n",
       "France             2\n",
       "Canada             2\n",
       "Canada,France      1\n",
       "Australia          1\n",
       "Cyprus             1\n",
       "Name: countries_en, dtype: int64"
      ]
     },
     "execution_count": 18,
     "metadata": {},
     "output_type": "execute_result"
    }
   ],
   "source": [
    "test_ingrd.countries_en.value_counts()"
   ]
  },
  {
   "cell_type": "code",
   "execution_count": null,
   "metadata": {},
   "outputs": [],
   "source": []
  }
 ],
 "metadata": {
  "kernelspec": {
   "display_name": "Python 3",
   "language": "python",
   "name": "python3"
  },
  "language_info": {
   "codemirror_mode": {
    "name": "ipython",
    "version": 3
   },
   "file_extension": ".py",
   "mimetype": "text/x-python",
   "name": "python",
   "nbconvert_exporter": "python",
   "pygments_lexer": "ipython3",
   "version": "3.6.7"
  }
 },
 "nbformat": 4,
 "nbformat_minor": 2
}
