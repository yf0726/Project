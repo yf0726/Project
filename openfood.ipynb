{
 "cells": [
  {
   "cell_type": "code",
   "execution_count": 1,
   "metadata": {},
   "outputs": [],
   "source": [
    "import numpy as np\n",
    "import re\n",
    "import pandas as pd"
   ]
  },
  {
   "cell_type": "code",
   "execution_count": 3,
   "metadata": {
    "scrolled": true
   },
   "outputs": [
    {
     "name": "stderr",
     "output_type": "stream",
     "text": [
      "/anaconda3/envs/ada/lib/python3.6/site-packages/IPython/core/interactiveshell.py:3020: DtypeWarning: Columns (0,3,5,24,25,26,28,36,41,49) have mixed types. Specify dtype option on import or set low_memory=False.\n",
      "  interactivity=interactivity, compiler=compiler, result=result)\n"
     ]
    }
   ],
   "source": [
    "# openfood = pd.read_csv('./dataset/openfood.csv',sep='\\t')\n",
    "# openfood_select = openfood[['product_name','categories','countries_en','manufacturing_places',\n",
    "#  'manufacturing_places_tags','allergens','origins','origins_tags','ingredients_text',\n",
    "#  'traces','nutrition_grade_fr','energy_100g','fat_100g','saturated-fat_100g','monounsaturated-fat_100g',\n",
    "#  'polyunsaturated-fat_100g','trans-fat_100g','cholesterol_100g','carbohydrates_100g','sugars_100g',\n",
    "#  'starch_100g','fiber_100g','proteins_100g','salt_100g','sodium_100g','alcohol_100g']]\n",
    "# openfood_notnull = openfood_select[pd.notnull(openfood_select['product_name'])].reset_index().drop(columns='index')\n",
    "# openfood_notnull = openfood_notnull[pd.notnull(openfood_notnull['countries_en'])].reset_index().drop(columns='index')\n",
    "# openfood_notnull.to_csv('OpenFoodCleaned.csv',index=False)"
   ]
  },
  {
   "cell_type": "code",
   "execution_count": 10,
   "metadata": {},
   "outputs": [],
   "source": [
    "openfood = pd.read_csv('./dataset/OpenFoodCleaned.csv')"
   ]
  },
  {
   "cell_type": "code",
   "execution_count": 13,
   "metadata": {},
   "outputs": [
    {
     "data": {
      "text/plain": [
       "France                                                                                                                                                                                                          412597\n",
       "United States                                                                                                                                                                                                   172641\n",
       "Germany                                                                                                                                                                                                          11178\n",
       "Switzerland                                                                                                                                                                                                      10314\n",
       "France,Germany                                                                                                                                                                                                    6313\n",
       "Spain                                                                                                                                                                                                             5573\n",
       "France,Switzerland                                                                                                                                                                                                4670\n",
       "United Kingdom                                                                                                                                                                                                    4346\n",
       "Belgium                                                                                                                                                                                                           4002\n",
       "Belgium,France                                                                                                                                                                                                    3686\n",
       "Mexico                                                                                                                                                                                                            2504\n",
       "Canada                                                                                                                                                                                                            2490\n",
       "Australia                                                                                                                                                                                                         1996\n",
       "France,United Kingdom                                                                                                                                                                                             1972\n",
       "Russia                                                                                                                                                                                                            1962\n",
       "Italy                                                                                                                                                                                                             1811\n",
       "France,Spain                                                                                                                                                                                                      1693\n",
       "France,United States                                                                                                                                                                                              1518\n",
       "Sweden                                                                                                                                                                                                             919\n",
       "Netherlands                                                                                                                                                                                                        915\n",
       "Portugal                                                                                                                                                                                                           646\n",
       "France,Italy                                                                                                                                                                                                       625\n",
       "Romania                                                                                                                                                                                                            580\n",
       "Czech Republic                                                                                                                                                                                                     478\n",
       "Austria                                                                                                                                                                                                            448\n",
       "Brazil                                                                                                                                                                                                             431\n",
       "Canada,France                                                                                                                                                                                                      426\n",
       "Serbia                                                                                                                                                                                                             414\n",
       "France,Portugal                                                                                                                                                                                                    402\n",
       "Hungary                                                                                                                                                                                                            390\n",
       "                                                                                                                                                                                                                 ...  \n",
       "Mexico,Peru                                                                                                                                                                                                          1\n",
       "France,Venezuela                                                                                                                                                                                                     1\n",
       "Argentina,Australia,Belgium,Canada,Colombia,France,Germany,Ireland,Italy,Japan,Luxembourg,Mexico,Netherlands,Portugal,Russia,Saudi Arabia,South Africa,Spain,Sweden,Switzerland,United Kingdom,United States         1\n",
       "European Union,France,French Polynesia                                                                                                                                                                               1\n",
       "Algeria,Belgium,Czech Republic,France,Iraq,Réunion,Sweden,Switzerland                                                                                                                                                1\n",
       "Czech Republic,Hungary,Romania,Slovakia                                                                                                                                                                              1\n",
       "Austria,France,Spain,United Kingdom                                                                                                                                                                                  1\n",
       "Belgium,Denmark,France,Germany,Malaysia,Netherlands,Norway,Sweden,United Kingdom                                                                                                                                     1\n",
       "Russia,Serbia                                                                                                                                                                                                        1\n",
       "France,fr:nantes                                                                                                                                                                                                     1\n",
       "France,Israel,Mexico                                                                                                                                                                                                 1\n",
       "Lithuania,United Kingdom                                                                                                                                                                                             1\n",
       "Australia,Switzerland                                                                                                                                                                                                1\n",
       "Germany,Mexico,Switzerland                                                                                                                                                                                           1\n",
       "Estonia,Latvia,Lithuania,Romania                                                                                                                                                                                     1\n",
       "Egypt,Libya,Thailand,Tunisia                                                                                                                                                                                         1\n",
       "Czech Republic,France,United Kingdom                                                                                                                                                                                 1\n",
       "Germany,Ukraine                                                                                                                                                                                                      1\n",
       "Hungary,Romania,United Kingdom                                                                                                                                                                                       1\n",
       "Belarus,Czech Republic                                                                                                                                                                                               1\n",
       "Denmark,France,Germany,India                                                                                                                                                                                         1\n",
       "Cyprus,United Kingdom                                                                                                                                                                                                1\n",
       "Republic of the Congo,Senegal                                                                                                                                                                                        1\n",
       "Belgium,France,Germany,Greece,Netherlands,Spain                                                                                                                                                                      1\n",
       "Denmark,Finland,France                                                                                                                                                                                               1\n",
       "El Salvador,Sweden                                                                                                                                                                                                   1\n",
       "Belgium,France,Germany,Hungary,Switzerland                                                                                                                                                                           1\n",
       "France,Ireland,Netherlands                                                                                                                                                                                           1\n",
       "Germany,Switzerland,ch:suisse                                                                                                                                                                                        1\n",
       "Italy,Netherlands,Portugal                                                                                                                                                                                           1\n",
       "Name: countries_en, Length: 1218, dtype: int64"
      ]
     },
     "execution_count": 13,
     "metadata": {},
     "output_type": "execute_result"
    }
   ],
   "source": [
    "openfood.countries_en.value_counts()"
   ]
  },
  {
   "cell_type": "code",
   "execution_count": 17,
   "metadata": {},
   "outputs": [],
   "source": [
    "test_ingrd = openfood_notnull[openfood_notnull.product_name.str.lower().str.contains('canola oil')]"
   ]
  },
  {
   "cell_type": "code",
   "execution_count": 18,
   "metadata": {
    "scrolled": true
   },
   "outputs": [
    {
     "data": {
      "text/plain": [
       "United States    224\n",
       "France             2\n",
       "Canada             2\n",
       "Canada,France      1\n",
       "Australia          1\n",
       "Cyprus             1\n",
       "Name: countries_en, dtype: int64"
      ]
     },
     "execution_count": 18,
     "metadata": {},
     "output_type": "execute_result"
    }
   ],
   "source": [
    "test_ingrd.countries_en.value_counts()"
   ]
  },
  {
   "cell_type": "code",
   "execution_count": null,
   "metadata": {},
   "outputs": [],
   "source": []
  }
 ],
 "metadata": {
  "kernelspec": {
   "display_name": "Python 3",
   "language": "python",
   "name": "python3"
  },
  "language_info": {
   "codemirror_mode": {
    "name": "ipython",
    "version": 3
   },
   "file_extension": ".py",
   "mimetype": "text/x-python",
   "name": "python",
   "nbconvert_exporter": "python",
   "pygments_lexer": "ipython3",
   "version": "3.6.7"
  }
 },
 "nbformat": 4,
 "nbformat_minor": 2
}
