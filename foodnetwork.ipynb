{
 "cells": [
  {
   "cell_type": "code",
   "execution_count": 2,
   "metadata": {},
   "outputs": [],
   "source": [
    "import numpy as np\n",
    "from os import walk\n",
    "import re\n",
    "import requests\n",
    "from bs4 import BeautifulSoup,Comment\n",
    "import re\n",
    "import pandas as pd"
   ]
  },
  {
   "cell_type": "code",
   "execution_count": 3,
   "metadata": {},
   "outputs": [],
   "source": [
    "FOLDER_PATH = './dataset/foodnetwork/'\n",
    "test_file = '0a5ae5d3ccf0e0012ccb68716c9af39c.html'"
   ]
  },
  {
   "cell_type": "code",
   "execution_count": 4,
   "metadata": {},
   "outputs": [],
   "source": [
    "soup_test = BeautifulSoup(open(FOLDER_PATH + test_file, 'rb'), 'html.parser')"
   ]
  },
  {
   "cell_type": "code",
   "execution_count": 5,
   "metadata": {},
   "outputs": [
    {
     "data": {
      "text/plain": [
       "'Spicy Couscous'"
      ]
     },
     "execution_count": 5,
     "metadata": {},
     "output_type": "execute_result"
    }
   ],
   "source": [
    "title = soup_test.find(\"meta\", property=\"og:title\")['content']\n",
    "title"
   ]
  },
  {
   "cell_type": "code",
   "execution_count": 160,
   "metadata": {},
   "outputs": [
    {
     "data": {
      "text/plain": [
       "['2 tablespoons canola oil',\n",
       " '2 teaspoons minced garlic',\n",
       " '1 teaspoon crushed red pepper flakes',\n",
       " '2 cups chicken broth',\n",
       " '1 (10-ounce) box couscous',\n",
       " 'Salt and freshly ground black pepper']"
      ]
     },
     "execution_count": 160,
     "metadata": {},
     "output_type": "execute_result"
    }
   ],
   "source": [
    "soup_test.find('ul',class_=\"kv-ingred-list1\").get_text().split('\\n')[1:-1]"
   ]
  },
  {
   "cell_type": "code",
   "execution_count": 161,
   "metadata": {},
   "outputs": [],
   "source": [
    "ingredient_list = []\n",
    "direction_list = []"
   ]
  },
  {
   "cell_type": "code",
   "execution_count": 162,
   "metadata": {},
   "outputs": [],
   "source": [
    "def normalize_string(string):\n",
    "    return re.sub(\n",
    "        r'\\s+', ' ',\n",
    "        string.replace(\n",
    "            '\\xa0', ' ').replace(  # &nbsp;\n",
    "            '\\n', ' ').replace(\n",
    "            '\\t', ' ').strip()\n",
    "    )"
   ]
  },
  {
   "cell_type": "code",
   "execution_count": 163,
   "metadata": {},
   "outputs": [],
   "source": [
    "TIME_REGEX = re.compile(\n",
    "    r'(\\D*(?P<hours>\\d+)\\s*(hours|hrs|hr|h|Hours|H))?(\\D*(?P<minutes>\\d+)\\s*(minutes|mins|min|m|Minutes|M))?')\n",
    "\n",
    "def get_minutes(element):\n",
    "    try:\n",
    "        tstring = element.get_text()\n",
    "        if '-' in tstring:\n",
    "            tstring = tstring.split('-')[1]  # sometimes formats are like this: '12-15 minutes'\n",
    "        matched = TIME_REGEX.search(tstring)\n",
    "\n",
    "        minutes = int(matched.groupdict().get('minutes') or 0)\n",
    "        minutes += 60 * int(matched.groupdict().get('hours') or 0)\n",
    "\n",
    "        return minutes\n",
    "    except AttributeError:  # if dom_element not found or no matched\n",
    "        return 0"
   ]
  },
  {
   "cell_type": "code",
   "execution_count": 164,
   "metadata": {},
   "outputs": [],
   "source": [
    "ingredients = soup_test.findAll('li', {'class': 'ingredient'})\n",
    "ingredient_list.append({'ingredient':[normalize_string(ingredient.get_text())for ingredient in ingredients],\n",
    "                        'title': title} ) \n",
    "directions = soup_test.findAll('div', class_=\"instructions\")\n",
    "direction_list.append({'direction':[normalize_string(direction.get_text()) for direction in directions],\n",
    "                       'title': title} )"
   ]
  },
  {
   "cell_type": "code",
   "execution_count": 165,
   "metadata": {},
   "outputs": [
    {
     "data": {
      "text/plain": [
       "[{'ingredient': ['2 tablespoons canola oil',\n",
       "   '2 teaspoons minced garlic',\n",
       "   '1 teaspoon crushed red pepper flakes',\n",
       "   '2 cups chicken broth',\n",
       "   '1 (10-ounce) box couscous',\n",
       "   'Salt and freshly ground black pepper'],\n",
       "  'title': 'Spicy Couscous'}]"
      ]
     },
     "execution_count": 165,
     "metadata": {},
     "output_type": "execute_result"
    }
   ],
   "source": [
    "ingredient_list"
   ]
  },
  {
   "cell_type": "code",
   "execution_count": 166,
   "metadata": {},
   "outputs": [
    {
     "data": {
      "text/plain": [
       "[{'direction': ['Heat oil in a medium saucepan over medium-low heat. Saute garlic with red pepper flakes for 2 minutes being careful not to burn garlic. Add the chicken broth, turn up heat to medium-high and bring to a boil. Stir in couscous, cover and remove from the heat. Let stand 5 minutes. Season with salt and pepper and fluff with fork. Transfer to a serving bowl and serve.'],\n",
       "  'title': 'Spicy Couscous'}]"
      ]
     },
     "execution_count": 166,
     "metadata": {},
     "output_type": "execute_result"
    }
   ],
   "source": [
    "direction_list"
   ]
  },
  {
   "cell_type": "code",
   "execution_count": 167,
   "metadata": {},
   "outputs": [
    {
     "name": "stdout",
     "output_type": "stream",
     "text": [
      "Total Time: \n",
      "20\n"
     ]
    }
   ],
   "source": [
    "# Total time\n",
    "print(soup_test.find('dt',{'class':\"head time\"}).text)\n",
    "print(get_minutes(soup_test.find('dd',class_=\"head duration clrfix\")))"
   ]
  },
  {
   "cell_type": "code",
   "execution_count": 168,
   "metadata": {},
   "outputs": [
    {
     "name": "stdout",
     "output_type": "stream",
     "text": [
      "5\n"
     ]
    }
   ],
   "source": [
    "# prep time\n",
    "print(get_minutes(soup_test.find('dd',class_=\"prepTime clrfix\")))"
   ]
  },
  {
   "cell_type": "code",
   "execution_count": 171,
   "metadata": {},
   "outputs": [
    {
     "name": "stdout",
     "output_type": "stream",
     "text": [
      "10\n"
     ]
    }
   ],
   "source": [
    "# cook time\n",
    "print(get_minutes(soup_test.find('dd',class_=\"cookTime clrfix\")))"
   ]
  },
  {
   "cell_type": "code",
   "execution_count": 174,
   "metadata": {},
   "outputs": [
    {
     "data": {
      "text/plain": [
       "5"
      ]
     },
     "execution_count": 174,
     "metadata": {},
     "output_type": "execute_result"
    }
   ],
   "source": [
    "# rating and review counts\n",
    "int(re.findall('(\\d+)',soup_test.findAll('span', {'class':\"lgbtn-text\"})[1].text)[0])"
   ]
  },
  {
   "cell_type": "code",
   "execution_count": null,
   "metadata": {},
   "outputs": [],
   "source": [
    "rating_review_list, times_list, ingredient_list, direction_list = ([] for i in range(5))\n",
    "count=0\n",
    "for root, _, files in walk(FOLDER_PATH):   #return three list \n",
    "    for name in files:\n",
    "        soup_i = BeautifulSoup(open(FOLDER_PATH + name, 'rb'), 'html.parser')\n",
    "        if soup_i.findAll('a'):    #make sure there is no blank HTML\n",
    "            if ('http://www.foodnetwork.com/recipes/' in soup_i.text): # make sure the page is for recipe\n",
    "                title = soup_i.find(\"meta\", property=\"og:title\")['content']\n",
    "                rating_review_list.append({'Title': title, \n",
    "                                           'Rating': float(re.search(r'(\\d*\\.\\d*)',str(soup_i.find('img', class_=\"rating\")))[0]),\n",
    "                                           'Reviews': int(re.findall('(\\d+)',soup_i.findAll('span', {'class':\"lgbtn-text\"})[1].text)[0])\\\n",
    "                                                      if soup_i.findAll('span', {'class':\"lgbtn-text\"})[1].text else np.nan\n",
    "                                          })\n",
    "                times_list.append({'Title': title, \n",
    "                                   'Prep Time (min)': get_minutes(soup_i.find('dd',class_=\"prepTime clrfix\"))\\\n",
    "                                                      if soup_i.find('dd',class_=\"prepTime clrfix\") else np.nan,\n",
    "                                   'Cook Time (min)': get_minutes(soup_i.find('dd',class_=\"cookTime clrfix\"))\\\n",
    "                                                      if soup_i.find('dd',class_=\"cookTime clrfix\") else np.nan,\n",
    "                                   'Total Time (min)': get_minutes(soup_i.find('dd',class_=\"head duration clrfix\"))\\\n",
    "                                                     if soup_i.find('dd',class_=\"head duration clrfix\") else np.nan\n",
    "                                  })\n",
    "                ingredients = soup_i.findAll('li', {'class': 'ingredient'})\n",
    "                ingredient_list.append({{'Title': title,\n",
    "                                         'ingredient':[normalize_string(ingredient.get_text())for ingredient in ingredients]}\\\n",
    "                                                      if ingredients else np.nan\n",
    "                                       }) \n",
    "                directions = soup_i..findAll('div', class_=\"instructions\")\n",
    "                direction_list.append({'Title': title,\n",
    "                                       'Direction': [normalize_string(direction.get_text()) for direction in directions]\\\n",
    "                                                    if directions else np.nan\n",
    "                                      })\n",
    "                print(count, name)\n",
    "            else:\n",
    "                print(count, name, 'not recipe pages')\n",
    "        else:\n",
    "            print(count, name, 'null pages')\n",
    "        count+=1"
   ]
  },
  {
   "cell_type": "code",
   "execution_count": null,
   "metadata": {},
   "outputs": [],
   "source": []
  }
 ],
 "metadata": {
  "kernelspec": {
   "display_name": "Python 3",
   "language": "python",
   "name": "python3"
  },
  "language_info": {
   "codemirror_mode": {
    "name": "ipython",
    "version": 3
   },
   "file_extension": ".py",
   "mimetype": "text/x-python",
   "name": "python",
   "nbconvert_exporter": "python",
   "pygments_lexer": "ipython3",
   "version": "3.6.7"
  }
 },
 "nbformat": 4,
 "nbformat_minor": 2
}
